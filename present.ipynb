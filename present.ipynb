{
 "cells": [
  {
   "cell_type": "code",
   "execution_count": 27,
   "id": "fe73fb7d-ab0f-48cb-b6e1-81dc4f5c4fea",
   "metadata": {},
   "outputs": [],
   "source": [
    "import numpy as np\n",
    "import pandas as pd\n",
    "import matplotlib.pyplot as plt\n",
    "\n",
    "from regression import Model"
   ]
  },
  {
   "cell_type": "markdown",
   "id": "f4e85d12-d41f-4ba4-bd97-af0689e6f8cf",
   "metadata": {},
   "source": [
    "# All data"
   ]
  },
  {
   "cell_type": "code",
   "execution_count": 28,
   "id": "434c1d11-7276-4d07-8a46-b6b12ff3ca31",
   "metadata": {},
   "outputs": [],
   "source": [
    "df = pd.read_csv(\"tabelog.csv\")"
   ]
  },
  {
   "cell_type": "code",
   "execution_count": 29,
   "id": "799f2945-4dc1-493d-931e-25db7e83689e",
   "metadata": {},
   "outputs": [
    {
     "data": {
      "text/html": [
       "<div>\n",
       "<style scoped>\n",
       "    .dataframe tbody tr th:only-of-type {\n",
       "        vertical-align: middle;\n",
       "    }\n",
       "\n",
       "    .dataframe tbody tr th {\n",
       "        vertical-align: top;\n",
       "    }\n",
       "\n",
       "    .dataframe thead th {\n",
       "        text-align: right;\n",
       "    }\n",
       "</style>\n",
       "<table border=\"1\" class=\"dataframe\">\n",
       "  <thead>\n",
       "    <tr style=\"text-align: right;\">\n",
       "      <th></th>\n",
       "      <th>score_p0</th>\n",
       "      <th>score_p1</th>\n",
       "      <th>score_p2</th>\n",
       "      <th>michelin_dummy</th>\n",
       "      <th>if_new</th>\n",
       "      <th>not_new</th>\n",
       "      <th>p2-p0</th>\n",
       "      <th>p1-p0</th>\n",
       "    </tr>\n",
       "  </thead>\n",
       "  <tbody>\n",
       "    <tr>\n",
       "      <th>count</th>\n",
       "      <td>32195.000000</td>\n",
       "      <td>32195.000000</td>\n",
       "      <td>32195.000000</td>\n",
       "      <td>32195.000000</td>\n",
       "      <td>32195.000000</td>\n",
       "      <td>32195.000000</td>\n",
       "      <td>32195.000000</td>\n",
       "      <td>32195.000000</td>\n",
       "    </tr>\n",
       "    <tr>\n",
       "      <th>mean</th>\n",
       "      <td>3.225399</td>\n",
       "      <td>3.225864</td>\n",
       "      <td>3.228862</td>\n",
       "      <td>0.009256</td>\n",
       "      <td>0.000963</td>\n",
       "      <td>0.008293</td>\n",
       "      <td>0.003463</td>\n",
       "      <td>0.000465</td>\n",
       "    </tr>\n",
       "    <tr>\n",
       "      <th>std</th>\n",
       "      <td>0.213204</td>\n",
       "      <td>0.213280</td>\n",
       "      <td>0.212764</td>\n",
       "      <td>0.095764</td>\n",
       "      <td>0.031016</td>\n",
       "      <td>0.090690</td>\n",
       "      <td>0.029468</td>\n",
       "      <td>0.008409</td>\n",
       "    </tr>\n",
       "    <tr>\n",
       "      <th>min</th>\n",
       "      <td>3.000000</td>\n",
       "      <td>3.000000</td>\n",
       "      <td>3.000000</td>\n",
       "      <td>0.000000</td>\n",
       "      <td>0.000000</td>\n",
       "      <td>0.000000</td>\n",
       "      <td>-1.180000</td>\n",
       "      <td>-0.130000</td>\n",
       "    </tr>\n",
       "    <tr>\n",
       "      <th>25%</th>\n",
       "      <td>3.050000</td>\n",
       "      <td>3.060000</td>\n",
       "      <td>3.060000</td>\n",
       "      <td>0.000000</td>\n",
       "      <td>0.000000</td>\n",
       "      <td>0.000000</td>\n",
       "      <td>0.000000</td>\n",
       "      <td>0.000000</td>\n",
       "    </tr>\n",
       "    <tr>\n",
       "      <th>50%</th>\n",
       "      <td>3.150000</td>\n",
       "      <td>3.150000</td>\n",
       "      <td>3.160000</td>\n",
       "      <td>0.000000</td>\n",
       "      <td>0.000000</td>\n",
       "      <td>0.000000</td>\n",
       "      <td>0.000000</td>\n",
       "      <td>0.000000</td>\n",
       "    </tr>\n",
       "    <tr>\n",
       "      <th>75%</th>\n",
       "      <td>3.360000</td>\n",
       "      <td>3.360000</td>\n",
       "      <td>3.360000</td>\n",
       "      <td>0.000000</td>\n",
       "      <td>0.000000</td>\n",
       "      <td>0.000000</td>\n",
       "      <td>0.000000</td>\n",
       "      <td>0.000000</td>\n",
       "    </tr>\n",
       "    <tr>\n",
       "      <th>max</th>\n",
       "      <td>4.800000</td>\n",
       "      <td>4.800000</td>\n",
       "      <td>4.680000</td>\n",
       "      <td>1.000000</td>\n",
       "      <td>1.000000</td>\n",
       "      <td>1.000000</td>\n",
       "      <td>0.940000</td>\n",
       "      <td>0.150000</td>\n",
       "    </tr>\n",
       "  </tbody>\n",
       "</table>\n",
       "</div>"
      ],
      "text/plain": [
       "           score_p0      score_p1      score_p2  michelin_dummy        if_new  \\\n",
       "count  32195.000000  32195.000000  32195.000000    32195.000000  32195.000000   \n",
       "mean       3.225399      3.225864      3.228862        0.009256      0.000963   \n",
       "std        0.213204      0.213280      0.212764        0.095764      0.031016   \n",
       "min        3.000000      3.000000      3.000000        0.000000      0.000000   \n",
       "25%        3.050000      3.060000      3.060000        0.000000      0.000000   \n",
       "50%        3.150000      3.150000      3.160000        0.000000      0.000000   \n",
       "75%        3.360000      3.360000      3.360000        0.000000      0.000000   \n",
       "max        4.800000      4.800000      4.680000        1.000000      1.000000   \n",
       "\n",
       "            not_new         p2-p0         p1-p0  \n",
       "count  32195.000000  32195.000000  32195.000000  \n",
       "mean       0.008293      0.003463      0.000465  \n",
       "std        0.090690      0.029468      0.008409  \n",
       "min        0.000000     -1.180000     -0.130000  \n",
       "25%        0.000000      0.000000      0.000000  \n",
       "50%        0.000000      0.000000      0.000000  \n",
       "75%        0.000000      0.000000      0.000000  \n",
       "max        1.000000      0.940000      0.150000  "
      ]
     },
     "execution_count": 29,
     "metadata": {},
     "output_type": "execute_result"
    }
   ],
   "source": [
    "df.describe()"
   ]
  },
  {
   "cell_type": "markdown",
   "id": "f3c9f6af-a3d6-4623-9bc6-9077d755b3fe",
   "metadata": {},
   "source": [
    "# Explained: p1-p0, Explaining: if_new"
   ]
  },
  {
   "cell_type": "code",
   "execution_count": 30,
   "id": "cc3c1e36-ae9a-4959-9f55-1ae63af2fa3d",
   "metadata": {},
   "outputs": [
    {
     "name": "stdout",
     "output_type": "stream",
     "text": [
      "Regression starts... \n",
      "\n",
      "Adjusted R-squared: -0.0\n",
      "\n",
      "Two-tailed t-test results:\n",
      "\n",
      "         Name      Coef   Std Err   t-value   p-value\n",
      "0  _constant_  0.000464  0.000047  9.888430  0.000000\n",
      "1      if_new  0.001472  0.001849  0.795977  0.423618\n"
     ]
    }
   ],
   "source": [
    "Y = df[\"p1-p0\"]\n",
    "X = df[\"if_new\"]\n",
    "\n",
    "m = Model(Y, X)\n",
    "m.regression()"
   ]
  },
  {
   "cell_type": "markdown",
   "id": "1b5d7018-8786-4277-95d4-b55460da0da5",
   "metadata": {},
   "source": [
    "# Explained: p2-p0, Explaining: if_new"
   ]
  },
  {
   "cell_type": "code",
   "execution_count": 31,
   "id": "99e12523-3782-42f6-8abf-397f1be77139",
   "metadata": {},
   "outputs": [
    {
     "name": "stdout",
     "output_type": "stream",
     "text": [
      "Regression starts... \n",
      "\n",
      "Adjusted R-squared: 0.0001\n",
      "\n",
      "Two-tailed t-test results:\n",
      "\n",
      "         Name      Coef   Std Err    t-value   p-value\n",
      "0  _constant_  0.003454  0.000164  21.019295  0.000000\n",
      "1      if_new  0.009127  0.004809   1.898012  0.057121\n"
     ]
    }
   ],
   "source": [
    "Y2 = df[\"p2-p0\"]\n",
    "X2 = df[\"if_new\"]\n",
    "\n",
    "m2 = Model(Y2, X2)\n",
    "m2.regression()"
   ]
  },
  {
   "cell_type": "markdown",
   "id": "89160329-12c7-4267-8853-dbf97a5b86b9",
   "metadata": {},
   "source": [
    "---"
   ]
  },
  {
   "cell_type": "markdown",
   "id": "bf9a6aa4-8cc0-4e68-9f1d-b5abf7e9f0c6",
   "metadata": {},
   "source": [
    "# Michelin only"
   ]
  },
  {
   "cell_type": "code",
   "execution_count": 32,
   "id": "bbfa3f41-6888-4f4d-978f-8595ecf33dbe",
   "metadata": {},
   "outputs": [],
   "source": [
    "df2 = pd.read_csv(\"michelin_only.csv\")"
   ]
  },
  {
   "cell_type": "markdown",
   "id": "0a525082-4df5-4452-8669-162938fb1e52",
   "metadata": {},
   "source": [
    "# Explained: p1-p0, Explaining: if_new"
   ]
  },
  {
   "cell_type": "code",
   "execution_count": 33,
   "id": "00c6cbd3-2667-4cb4-b74d-f4a922530d27",
   "metadata": {},
   "outputs": [
    {
     "name": "stdout",
     "output_type": "stream",
     "text": [
      "Regression starts... \n",
      "\n",
      "Adjusted R-squared: -0.0006\n",
      "\n",
      "Two-tailed t-test results:\n",
      "\n",
      "         Name      Coef   Std Err   t-value   p-value\n",
      "0  _constant_  0.000037  0.000682  0.054947  0.953739\n",
      "1      if_new  0.001898  0.001976  0.960509  0.334949\n"
     ]
    }
   ],
   "source": [
    "mY = df2[\"p1-p0\"]\n",
    "mX = df2[\"if_new\"]\n",
    "\n",
    "mm = Model(mY, mX)\n",
    "mm.regression()"
   ]
  },
  {
   "cell_type": "markdown",
   "id": "cbbd6483-24bc-4dfc-982f-51466934c161",
   "metadata": {},
   "source": [
    "# Explained: p2-p0, Explaining: if_new"
   ]
  },
  {
   "cell_type": "code",
   "execution_count": 34,
   "id": "98100b63-db0e-4019-85a5-a4fd7cef606a",
   "metadata": {},
   "outputs": [
    {
     "name": "stdout",
     "output_type": "stream",
     "text": [
      "Regression starts... \n",
      "\n",
      "Adjusted R-squared: 0.0055\n",
      "\n",
      "Two-tailed t-test results:\n",
      "\n",
      "         Name      Coef   Std Err   t-value   p-value\n",
      "0  _constant_ -0.021236  0.007066 -3.005185  0.002624\n",
      "1      if_new  0.033817  0.008555  3.952933  0.000075\n"
     ]
    }
   ],
   "source": [
    "mY2 = df2[\"p2-p0\"]\n",
    "mX2 = df2[\"if_new\"]\n",
    "\n",
    "mm2 = Model(mY2, mX2)\n",
    "mm2.regression()"
   ]
  },
  {
   "cell_type": "markdown",
   "id": "ba04c86d-fbb3-40da-9c15-b3221c0ba4a2",
   "metadata": {},
   "source": [
    "# Explained: p1-p0, Explaining: not_new"
   ]
  },
  {
   "cell_type": "code",
   "execution_count": 35,
   "id": "5f25fb77-a919-4662-8dd6-efca5ae49401",
   "metadata": {},
   "outputs": [
    {
     "name": "stdout",
     "output_type": "stream",
     "text": [
      "Regression starts... \n",
      "\n",
      "Adjusted R-squared: -0.0006\n",
      "\n",
      "Two-tailed t-test results:\n",
      "\n",
      "         Name      Coef   Std Err   t-value   p-value\n",
      "0  _constant_  0.001935  0.001855  1.043508  0.294542\n",
      "1     not_new -0.001898  0.001976 -0.960509  0.334949\n"
     ]
    }
   ],
   "source": [
    "mY3 = df2[\"p1-p0\"]\n",
    "mX3 = df2[\"not_new\"]\n",
    "\n",
    "mm3 = Model(mY3, mX3)\n",
    "mm3.regression()"
   ]
  },
  {
   "cell_type": "markdown",
   "id": "6966f8e5-a773-4e7b-bde5-5d81dfe7d3cb",
   "metadata": {},
   "source": [
    "# Explained: p2-p0, Explaining: not_new"
   ]
  },
  {
   "cell_type": "code",
   "execution_count": 36,
   "id": "a630c810-523d-4e88-a4f4-7d83e6e64803",
   "metadata": {},
   "outputs": [
    {
     "name": "stdout",
     "output_type": "stream",
     "text": [
      "Regression starts... \n",
      "\n",
      "Adjusted R-squared: 0.0055\n",
      "\n",
      "Two-tailed t-test results:\n",
      "\n",
      "         Name      Coef   Std Err   t-value   p-value\n",
      "0  _constant_  0.012581  0.004822  2.609089  0.008987\n",
      "1     not_new -0.033817  0.008555 -3.952933  0.000075\n"
     ]
    }
   ],
   "source": [
    "mY4 = df2[\"p2-p0\"]\n",
    "mX4 = df2[\"not_new\"]\n",
    "\n",
    "mm4 = Model(mY4, mX4)\n",
    "mm4.regression()"
   ]
  },
  {
   "cell_type": "code",
   "execution_count": null,
   "id": "e52800e1-c347-4859-8afe-cf2b8450ae76",
   "metadata": {},
   "outputs": [],
   "source": []
  }
 ],
 "metadata": {
  "kernelspec": {
   "display_name": "Python 3",
   "language": "python",
   "name": "python3"
  },
  "language_info": {
   "codemirror_mode": {
    "name": "ipython",
    "version": 3
   },
   "file_extension": ".py",
   "mimetype": "text/x-python",
   "name": "python",
   "nbconvert_exporter": "python",
   "pygments_lexer": "ipython3",
   "version": "3.8.5"
  }
 },
 "nbformat": 4,
 "nbformat_minor": 5
}
