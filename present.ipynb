{
 "cells": [
  {
   "cell_type": "markdown",
   "id": "77c49f5e-9458-4366-82dc-03222ce46858",
   "metadata": {},
   "source": [
    "# __Import libraries and read data__"
   ]
  },
  {
   "cell_type": "code",
   "execution_count": 1,
   "id": "ab1f5dca-db65-4a31-b7ef-8ab7abf8236f",
   "metadata": {},
   "outputs": [],
   "source": [
    "import numpy as np\n",
    "import pandas as pd\n",
    "import matplotlib.pyplot as plt\n",
    "\n",
    "from regression import Model"
   ]
  },
  {
   "cell_type": "code",
   "execution_count": 2,
   "id": "31402924-8c02-4f1d-a572-9133f50387df",
   "metadata": {},
   "outputs": [],
   "source": [
    "df = pd.read_csv(\"data.csv\")"
   ]
  },
  {
   "cell_type": "markdown",
   "id": "308c0fb6-290a-4e5d-a12c-3de5807c463f",
   "metadata": {},
   "source": [
    "# Y: diff1\n",
    "# X: michelin, if_new"
   ]
  },
  {
   "cell_type": "code",
   "execution_count": 3,
   "id": "2896a913-0ea0-426b-8498-ff556e980cc4",
   "metadata": {},
   "outputs": [],
   "source": [
    "Y = df.sort_values(by=\"diff1\").iloc[len(df)//1000:-len(df)//1000,:].sort_index()[\"diff1\"]\n",
    "X = df.sort_values(by=\"diff1\").iloc[len(df)//1000:-len(df)//1000,:].sort_index()[[\"michelin_dummy\", \"if_new\"]]"
   ]
  },
  {
   "cell_type": "code",
   "execution_count": 4,
   "id": "05b5aec8-50e4-49c7-bd2f-1479f6ef7a81",
   "metadata": {},
   "outputs": [
    {
     "name": "stdout",
     "output_type": "stream",
     "text": [
      "Regression starts... \n",
      "\n",
      "Explained variable: diff1\n",
      "\n",
      "Adjusted R-squared: -0.0\n",
      "\n",
      "Two-tailed t-test results:\n",
      "\n",
      "             Name      Coef   Std Err   t-value   p-value\n",
      "0      _constant_  0.000467  0.000047  9.954040  0.000000\n",
      "1  michelin_dummy -0.000430  0.000681 -0.630961  0.525998\n",
      "2          if_new  0.001898  0.001970  0.963704  0.332947 \n",
      "\n",
      "\n",
      "Correlation between independent variables:\n",
      "\n",
      "                michelin_dummy   if_new\n",
      "michelin_dummy         1.00000  0.32119\n",
      "if_new                 0.32119  1.00000\n"
     ]
    }
   ],
   "source": [
    "m = Model(Y, X)\n",
    "m.regression()"
   ]
  },
  {
   "cell_type": "markdown",
   "id": "ee93d24d-2c93-441b-b2da-4b4cb5a96114",
   "metadata": {},
   "source": [
    "# Y: diff2 \n",
    "# X: michelin, if_new"
   ]
  },
  {
   "cell_type": "code",
   "execution_count": 5,
   "id": "c37c5d22-dba7-487a-b88f-0b53781afeed",
   "metadata": {},
   "outputs": [],
   "source": [
    "Y = df.sort_values(by=\"diff2\").iloc[len(df)//1000:-len(df)//1000,:].sort_index()[\"diff2\"]\n",
    "X = df.sort_values(by=\"diff2\").iloc[len(df)//1000:-len(df)//1000,:].sort_index()[[\"michelin_dummy\", \"if_new\"]]"
   ]
  },
  {
   "cell_type": "code",
   "execution_count": 6,
   "id": "524fe271-7817-4158-a661-0380d099a628",
   "metadata": {},
   "outputs": [
    {
     "name": "stdout",
     "output_type": "stream",
     "text": [
      "Regression starts... \n",
      "\n",
      "Explained variable: diff2\n",
      "\n",
      "Adjusted R-squared: 0.0023\n",
      "\n",
      "Two-tailed t-test results:\n",
      "\n",
      "             Name      Coef   Std Err    t-value   p-value\n",
      "0      _constant_  0.003556  0.000130  27.309183  0.000000\n",
      "1  michelin_dummy -0.012306  0.003174  -3.876616  0.000104\n",
      "2          if_new  0.021331  0.005758   3.704413  0.000208 \n",
      "\n",
      "\n",
      "Correlation between independent variables:\n",
      "\n",
      "                michelin_dummy    if_new\n",
      "michelin_dummy        1.000000  0.322835\n",
      "if_new                0.322835  1.000000\n"
     ]
    }
   ],
   "source": [
    "m = Model(Y, X)\n",
    "m.regression()"
   ]
  },
  {
   "cell_type": "code",
   "execution_count": null,
   "id": "b4b08fbe-d51b-4a79-9562-dc5ac46ca1d6",
   "metadata": {},
   "outputs": [],
   "source": []
  },
  {
   "cell_type": "markdown",
   "id": "ad8cb6ba-9fd8-40f9-bc21-59ad563e1669",
   "metadata": {},
   "source": [
    "# Work"
   ]
  },
  {
   "cell_type": "code",
   "execution_count": 73,
   "id": "78cd5948-9865-420d-a92d-d75dd0e615cf",
   "metadata": {},
   "outputs": [],
   "source": [
    "des = pd.read_csv(\"descriptive.csv\")"
   ]
  },
  {
   "cell_type": "code",
   "execution_count": 74,
   "id": "1df739c9-26a2-43c4-9c05-4ce2e3e66628",
   "metadata": {},
   "outputs": [
    {
     "data": {
      "text/html": [
       "<div>\n",
       "<style scoped>\n",
       "    .dataframe tbody tr th:only-of-type {\n",
       "        vertical-align: middle;\n",
       "    }\n",
       "\n",
       "    .dataframe tbody tr th {\n",
       "        vertical-align: top;\n",
       "    }\n",
       "\n",
       "    .dataframe thead th {\n",
       "        text-align: right;\n",
       "    }\n",
       "</style>\n",
       "<table border=\"1\" class=\"dataframe\">\n",
       "  <thead>\n",
       "    <tr style=\"text-align: right;\">\n",
       "      <th></th>\n",
       "      <th>Unnamed: 0</th>\n",
       "      <th>増減１</th>\n",
       "      <th>増減２</th>\n",
       "      <th>ミシュランダミー変数</th>\n",
       "      <th>新規掲載ダミー変数</th>\n",
       "    </tr>\n",
       "  </thead>\n",
       "  <tbody>\n",
       "    <tr>\n",
       "      <th>0</th>\n",
       "      <td>count</td>\n",
       "      <td>32260.000</td>\n",
       "      <td>32260.000</td>\n",
       "      <td>32260.000</td>\n",
       "      <td>32260.000</td>\n",
       "    </tr>\n",
       "    <tr>\n",
       "      <th>1</th>\n",
       "      <td>mean</td>\n",
       "      <td>0.000</td>\n",
       "      <td>0.004</td>\n",
       "      <td>0.009</td>\n",
       "      <td>0.001</td>\n",
       "    </tr>\n",
       "    <tr>\n",
       "      <th>2</th>\n",
       "      <td>std</td>\n",
       "      <td>0.018</td>\n",
       "      <td>0.032</td>\n",
       "      <td>0.096</td>\n",
       "      <td>0.031</td>\n",
       "    </tr>\n",
       "    <tr>\n",
       "      <th>3</th>\n",
       "      <td>min</td>\n",
       "      <td>-1.360</td>\n",
       "      <td>-1.180</td>\n",
       "      <td>0.000</td>\n",
       "      <td>0.000</td>\n",
       "    </tr>\n",
       "    <tr>\n",
       "      <th>4</th>\n",
       "      <td>max</td>\n",
       "      <td>0.670</td>\n",
       "      <td>0.940</td>\n",
       "      <td>1.000</td>\n",
       "      <td>1.000</td>\n",
       "    </tr>\n",
       "  </tbody>\n",
       "</table>\n",
       "</div>"
      ],
      "text/plain": [
       "  Unnamed: 0        増減１        増減２  ミシュランダミー変数  新規掲載ダミー変数\n",
       "0      count  32260.000  32260.000   32260.000  32260.000\n",
       "1       mean      0.000      0.004       0.009      0.001\n",
       "2        std      0.018      0.032       0.096      0.031\n",
       "3        min     -1.360     -1.180       0.000      0.000\n",
       "4        max      0.670      0.940       1.000      1.000"
      ]
     },
     "execution_count": 74,
     "metadata": {},
     "output_type": "execute_result"
    }
   ],
   "source": [
    "des"
   ]
  },
  {
   "cell_type": "code",
   "execution_count": 154,
   "id": "c578a8df-5752-4b10-8ed0-3e9a286294ed",
   "metadata": {},
   "outputs": [],
   "source": [
    "index = pd.Series([\"ミシュランダミー変数\", \"新規掲載ダミー変数\", \"定数項\"])\n",
    "diff1 = ['-0.00043 (0.00068)', '0.00190 (0.00197)', '0.00047 (0.00005)']\n",
    "diff2 = ['-0.01231 (0.00317)', '0.02133 (0.00576)', '0.00356 (0.00013)']\n",
    "output = pd.DataFrame({\n",
    "    '増減１': diff1, \n",
    "    '増減２': diff2,\n",
    "}, index = index)"
   ]
  },
  {
   "cell_type": "code",
   "execution_count": 156,
   "id": "3b0367b9-3ea8-487f-911e-1ecacab18c43",
   "metadata": {},
   "outputs": [],
   "source": [
    "output.to_csv(\"output.csv\")"
   ]
  },
  {
   "cell_type": "code",
   "execution_count": 155,
   "id": "d46c3340-86d9-473a-8193-24b8626cbcb3",
   "metadata": {},
   "outputs": [
    {
     "data": {
      "text/html": [
       "<div>\n",
       "<style scoped>\n",
       "    .dataframe tbody tr th:only-of-type {\n",
       "        vertical-align: middle;\n",
       "    }\n",
       "\n",
       "    .dataframe tbody tr th {\n",
       "        vertical-align: top;\n",
       "    }\n",
       "\n",
       "    .dataframe thead th {\n",
       "        text-align: right;\n",
       "    }\n",
       "</style>\n",
       "<table border=\"1\" class=\"dataframe\">\n",
       "  <thead>\n",
       "    <tr style=\"text-align: right;\">\n",
       "      <th></th>\n",
       "      <th>増減１</th>\n",
       "      <th>増減２</th>\n",
       "    </tr>\n",
       "  </thead>\n",
       "  <tbody>\n",
       "    <tr>\n",
       "      <th>ミシュランダミー変数</th>\n",
       "      <td>-0.00043 (0.00068)</td>\n",
       "      <td>-0.01231 (0.00317)</td>\n",
       "    </tr>\n",
       "    <tr>\n",
       "      <th>新規掲載ダミー変数</th>\n",
       "      <td>0.00190 (0.00197)</td>\n",
       "      <td>0.02133 (0.00576)</td>\n",
       "    </tr>\n",
       "    <tr>\n",
       "      <th>定数項</th>\n",
       "      <td>0.00047 (0.00005)</td>\n",
       "      <td>0.00356 (0.00013)</td>\n",
       "    </tr>\n",
       "  </tbody>\n",
       "</table>\n",
       "</div>"
      ],
      "text/plain": [
       "                           増減１                 増減２\n",
       "ミシュランダミー変数  -0.00043 (0.00068)  -0.01231 (0.00317)\n",
       "新規掲載ダミー変数    0.00190 (0.00197)   0.02133 (0.00576)\n",
       "定数項          0.00047 (0.00005)   0.00356 (0.00013)"
      ]
     },
     "execution_count": 155,
     "metadata": {},
     "output_type": "execute_result"
    }
   ],
   "source": [
    "output"
   ]
  },
  {
   "cell_type": "code",
   "execution_count": 84,
   "id": "563271e1-64b9-4575-8365-7edef1e161a8",
   "metadata": {},
   "outputs": [
    {
     "data": {
      "text/plain": [
       "0    abc\n",
       "1      d\n",
       "2      e\n",
       "dtype: object"
      ]
     },
     "execution_count": 84,
     "metadata": {},
     "output_type": "execute_result"
    }
   ],
   "source": [
    "pd.Series([\"abc\", 'd', 'e'])"
   ]
  },
  {
   "cell_type": "code",
   "execution_count": 95,
   "id": "bc316a1a-6f73-4c36-8435-955c41acceb2",
   "metadata": {},
   "outputs": [
    {
     "data": {
      "text/plain": [
       "0   -0.012306\n",
       "1    0.021331\n",
       "2    0.003556\n",
       "dtype: float64"
      ]
     },
     "execution_count": 95,
     "metadata": {},
     "output_type": "execute_result"
    }
   ],
   "source": [
    "diff2"
   ]
  },
  {
   "cell_type": "code",
   "execution_count": 133,
   "id": "59d7aedd-21aa-47aa-88f7-61293b36f594",
   "metadata": {},
   "outputs": [],
   "source": [
    "descr = df.describe()"
   ]
  },
  {
   "cell_type": "code",
   "execution_count": 135,
   "id": "c2cc14ba-5ccf-4272-8718-a3c8c2d00682",
   "metadata": {},
   "outputs": [],
   "source": [
    "i, j = 0, 0\n",
    "for i in range(0, len(descr)):\n",
    "    for j in range(0, len(descr.columns)):\n",
    "        descr.iloc[i, j] = round(descr.iloc[i, j] , 3)"
   ]
  },
  {
   "cell_type": "code",
   "execution_count": 120,
   "id": "ff662122-8a78-4ea2-944b-09bba4ce72fd",
   "metadata": {},
   "outputs": [
    {
     "data": {
      "text/plain": [
       "1.0"
      ]
     },
     "execution_count": 120,
     "metadata": {},
     "output_type": "execute_result"
    }
   ],
   "source": [
    "descr.iloc[c1,c2 -1]"
   ]
  },
  {
   "cell_type": "code",
   "execution_count": 134,
   "id": "43e4dd79-8951-4505-a594-b2eb85a0e654",
   "metadata": {},
   "outputs": [
    {
     "data": {
      "text/html": [
       "<div>\n",
       "<style scoped>\n",
       "    .dataframe tbody tr th:only-of-type {\n",
       "        vertical-align: middle;\n",
       "    }\n",
       "\n",
       "    .dataframe tbody tr th {\n",
       "        vertical-align: top;\n",
       "    }\n",
       "\n",
       "    .dataframe thead th {\n",
       "        text-align: right;\n",
       "    }\n",
       "</style>\n",
       "<table border=\"1\" class=\"dataframe\">\n",
       "  <thead>\n",
       "    <tr style=\"text-align: right;\">\n",
       "      <th></th>\n",
       "      <th>before</th>\n",
       "      <th>after1</th>\n",
       "      <th>after2</th>\n",
       "      <th>diff1</th>\n",
       "      <th>diff2</th>\n",
       "      <th>michelin_dummy</th>\n",
       "      <th>if_new</th>\n",
       "    </tr>\n",
       "  </thead>\n",
       "  <tbody>\n",
       "    <tr>\n",
       "      <th>count</th>\n",
       "      <td>32260.000000</td>\n",
       "      <td>32260.000000</td>\n",
       "      <td>32260.000000</td>\n",
       "      <td>32260.000000</td>\n",
       "      <td>32260.000000</td>\n",
       "      <td>32260.000000</td>\n",
       "      <td>32260.000000</td>\n",
       "    </tr>\n",
       "    <tr>\n",
       "      <th>mean</th>\n",
       "      <td>3.225611</td>\n",
       "      <td>3.226023</td>\n",
       "      <td>3.229123</td>\n",
       "      <td>0.000412</td>\n",
       "      <td>0.003512</td>\n",
       "      <td>0.009392</td>\n",
       "      <td>0.000961</td>\n",
       "    </tr>\n",
       "    <tr>\n",
       "      <th>std</th>\n",
       "      <td>0.213410</td>\n",
       "      <td>0.213307</td>\n",
       "      <td>0.212990</td>\n",
       "      <td>0.018273</td>\n",
       "      <td>0.031820</td>\n",
       "      <td>0.096460</td>\n",
       "      <td>0.030985</td>\n",
       "    </tr>\n",
       "    <tr>\n",
       "      <th>min</th>\n",
       "      <td>3.000000</td>\n",
       "      <td>3.000000</td>\n",
       "      <td>3.000000</td>\n",
       "      <td>-1.360000</td>\n",
       "      <td>-1.180000</td>\n",
       "      <td>0.000000</td>\n",
       "      <td>0.000000</td>\n",
       "    </tr>\n",
       "    <tr>\n",
       "      <th>25%</th>\n",
       "      <td>3.050000</td>\n",
       "      <td>3.060000</td>\n",
       "      <td>3.060000</td>\n",
       "      <td>0.000000</td>\n",
       "      <td>0.000000</td>\n",
       "      <td>0.000000</td>\n",
       "      <td>0.000000</td>\n",
       "    </tr>\n",
       "    <tr>\n",
       "      <th>50%</th>\n",
       "      <td>3.150000</td>\n",
       "      <td>3.150000</td>\n",
       "      <td>3.160000</td>\n",
       "      <td>0.000000</td>\n",
       "      <td>0.000000</td>\n",
       "      <td>0.000000</td>\n",
       "      <td>0.000000</td>\n",
       "    </tr>\n",
       "    <tr>\n",
       "      <th>75%</th>\n",
       "      <td>3.360000</td>\n",
       "      <td>3.360000</td>\n",
       "      <td>3.360000</td>\n",
       "      <td>0.000000</td>\n",
       "      <td>0.000000</td>\n",
       "      <td>0.000000</td>\n",
       "      <td>0.000000</td>\n",
       "    </tr>\n",
       "    <tr>\n",
       "      <th>max</th>\n",
       "      <td>4.800000</td>\n",
       "      <td>4.800000</td>\n",
       "      <td>4.680000</td>\n",
       "      <td>0.670000</td>\n",
       "      <td>0.940000</td>\n",
       "      <td>1.000000</td>\n",
       "      <td>1.000000</td>\n",
       "    </tr>\n",
       "  </tbody>\n",
       "</table>\n",
       "</div>"
      ],
      "text/plain": [
       "             before        after1        after2         diff1         diff2  \\\n",
       "count  32260.000000  32260.000000  32260.000000  32260.000000  32260.000000   \n",
       "mean       3.225611      3.226023      3.229123      0.000412      0.003512   \n",
       "std        0.213410      0.213307      0.212990      0.018273      0.031820   \n",
       "min        3.000000      3.000000      3.000000     -1.360000     -1.180000   \n",
       "25%        3.050000      3.060000      3.060000      0.000000      0.000000   \n",
       "50%        3.150000      3.150000      3.160000      0.000000      0.000000   \n",
       "75%        3.360000      3.360000      3.360000      0.000000      0.000000   \n",
       "max        4.800000      4.800000      4.680000      0.670000      0.940000   \n",
       "\n",
       "       michelin_dummy        if_new  \n",
       "count    32260.000000  32260.000000  \n",
       "mean         0.009392      0.000961  \n",
       "std          0.096460      0.030985  \n",
       "min          0.000000      0.000000  \n",
       "25%          0.000000      0.000000  \n",
       "50%          0.000000      0.000000  \n",
       "75%          0.000000      0.000000  \n",
       "max          1.000000      1.000000  "
      ]
     },
     "execution_count": 134,
     "metadata": {},
     "output_type": "execute_result"
    }
   ],
   "source": [
    "descr"
   ]
  },
  {
   "cell_type": "code",
   "execution_count": 138,
   "id": "ecd6ae28-2eb4-4d2b-9ace-6701de1e0593",
   "metadata": {},
   "outputs": [],
   "source": [
    "descr.rename(columns={'diff1':'増減１', 'diff2':'増減２', 'michelin_dummy':'ミシュランダミー変数', 'if_new':'新規掲載ダミー変数'}, inplace=True)"
   ]
  },
  {
   "cell_type": "code",
   "execution_count": 140,
   "id": "7ab1a4e9-289d-4af7-9d47-6c8fe7a154a9",
   "metadata": {},
   "outputs": [],
   "source": [
    "descr.to_csv('descriptive.csv')"
   ]
  },
  {
   "cell_type": "code",
   "execution_count": 141,
   "id": "8175c039-0ca3-4221-9887-e627f2839b9d",
   "metadata": {},
   "outputs": [],
   "source": [
    "descr = pd.read_csv('descriptive.csv')"
   ]
  },
  {
   "cell_type": "code",
   "execution_count": 148,
   "id": "f42a177d-815f-4c3f-b1dd-1c70a47405b3",
   "metadata": {},
   "outputs": [],
   "source": [
    "descr = descr.iloc[[0,1,2,3,-1], :].rename(columns={descr.columns[0]:''})"
   ]
  },
  {
   "cell_type": "code",
   "execution_count": 150,
   "id": "d474190c-358e-4ab9-8077-0bffe9e3c905",
   "metadata": {},
   "outputs": [],
   "source": [
    "descr.to_csv(\"descriptive.csv\", index=False)"
   ]
  },
  {
   "cell_type": "code",
   "execution_count": 151,
   "id": "f0cc6299-784f-444d-bc88-628ba77893f9",
   "metadata": {},
   "outputs": [
    {
     "data": {
      "text/html": [
       "<div>\n",
       "<style scoped>\n",
       "    .dataframe tbody tr th:only-of-type {\n",
       "        vertical-align: middle;\n",
       "    }\n",
       "\n",
       "    .dataframe tbody tr th {\n",
       "        vertical-align: top;\n",
       "    }\n",
       "\n",
       "    .dataframe thead th {\n",
       "        text-align: right;\n",
       "    }\n",
       "</style>\n",
       "<table border=\"1\" class=\"dataframe\">\n",
       "  <thead>\n",
       "    <tr style=\"text-align: right;\">\n",
       "      <th></th>\n",
       "      <th></th>\n",
       "      <th>before</th>\n",
       "      <th>after1</th>\n",
       "      <th>after2</th>\n",
       "      <th>増減１</th>\n",
       "      <th>増減２</th>\n",
       "      <th>ミシュランダミー変数</th>\n",
       "      <th>新規掲載ダミー変数</th>\n",
       "    </tr>\n",
       "  </thead>\n",
       "  <tbody>\n",
       "    <tr>\n",
       "      <th>0</th>\n",
       "      <td>count</td>\n",
       "      <td>32260.000</td>\n",
       "      <td>32260.000</td>\n",
       "      <td>32260.000</td>\n",
       "      <td>32260.000</td>\n",
       "      <td>32260.000</td>\n",
       "      <td>32260.000</td>\n",
       "      <td>32260.000</td>\n",
       "    </tr>\n",
       "    <tr>\n",
       "      <th>1</th>\n",
       "      <td>mean</td>\n",
       "      <td>3.226</td>\n",
       "      <td>3.226</td>\n",
       "      <td>3.229</td>\n",
       "      <td>0.000</td>\n",
       "      <td>0.004</td>\n",
       "      <td>0.009</td>\n",
       "      <td>0.001</td>\n",
       "    </tr>\n",
       "    <tr>\n",
       "      <th>2</th>\n",
       "      <td>std</td>\n",
       "      <td>0.213</td>\n",
       "      <td>0.213</td>\n",
       "      <td>0.213</td>\n",
       "      <td>0.018</td>\n",
       "      <td>0.032</td>\n",
       "      <td>0.096</td>\n",
       "      <td>0.031</td>\n",
       "    </tr>\n",
       "    <tr>\n",
       "      <th>3</th>\n",
       "      <td>min</td>\n",
       "      <td>3.000</td>\n",
       "      <td>3.000</td>\n",
       "      <td>3.000</td>\n",
       "      <td>-1.360</td>\n",
       "      <td>-1.180</td>\n",
       "      <td>0.000</td>\n",
       "      <td>0.000</td>\n",
       "    </tr>\n",
       "    <tr>\n",
       "      <th>7</th>\n",
       "      <td>max</td>\n",
       "      <td>4.800</td>\n",
       "      <td>4.800</td>\n",
       "      <td>4.680</td>\n",
       "      <td>0.670</td>\n",
       "      <td>0.940</td>\n",
       "      <td>1.000</td>\n",
       "      <td>1.000</td>\n",
       "    </tr>\n",
       "  </tbody>\n",
       "</table>\n",
       "</div>"
      ],
      "text/plain": [
       "             before     after1     after2        増減１        増減２  ミシュランダミー変数  \\\n",
       "0  count  32260.000  32260.000  32260.000  32260.000  32260.000   32260.000   \n",
       "1   mean      3.226      3.226      3.229      0.000      0.004       0.009   \n",
       "2    std      0.213      0.213      0.213      0.018      0.032       0.096   \n",
       "3    min      3.000      3.000      3.000     -1.360     -1.180       0.000   \n",
       "7    max      4.800      4.800      4.680      0.670      0.940       1.000   \n",
       "\n",
       "   新規掲載ダミー変数  \n",
       "0  32260.000  \n",
       "1      0.001  \n",
       "2      0.031  \n",
       "3      0.000  \n",
       "7      1.000  "
      ]
     },
     "execution_count": 151,
     "metadata": {},
     "output_type": "execute_result"
    }
   ],
   "source": [
    "descr"
   ]
  },
  {
   "cell_type": "code",
   "execution_count": null,
   "id": "4b072478-22f8-4eac-ac3d-488df1fdc615",
   "metadata": {},
   "outputs": [],
   "source": []
  }
 ],
 "metadata": {
  "kernelspec": {
   "display_name": "Python 3",
   "language": "python",
   "name": "python3"
  },
  "language_info": {
   "codemirror_mode": {
    "name": "ipython",
    "version": 3
   },
   "file_extension": ".py",
   "mimetype": "text/x-python",
   "name": "python",
   "nbconvert_exporter": "python",
   "pygments_lexer": "ipython3",
   "version": "3.8.5"
  }
 },
 "nbformat": 4,
 "nbformat_minor": 5
}
