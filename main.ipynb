{
 "cells": [
  {
   "cell_type": "code",
   "execution_count": 1,
   "id": "6874654d-8d4b-4b7c-9fc5-a84430720192",
   "metadata": {},
   "outputs": [],
   "source": [
    "import numpy as np\n",
    "import pandas as pd\n",
    "import matplotlib.pyplot as plt\n",
    "\n",
    "from regression import Model"
   ]
  },
  {
   "cell_type": "code",
   "execution_count": 2,
   "id": "00be19fb-2f34-4711-b911-f59d2f430dff",
   "metadata": {},
   "outputs": [],
   "source": [
    "df = pd.read_csv(\"data.csv\")"
   ]
  },
  {
   "cell_type": "code",
   "execution_count": 3,
   "id": "16384ea1-fb65-44e3-8ff4-d8dce13bb94b",
   "metadata": {},
   "outputs": [
    {
     "data": {
      "text/html": [
       "<div>\n",
       "<style scoped>\n",
       "    .dataframe tbody tr th:only-of-type {\n",
       "        vertical-align: middle;\n",
       "    }\n",
       "\n",
       "    .dataframe tbody tr th {\n",
       "        vertical-align: top;\n",
       "    }\n",
       "\n",
       "    .dataframe thead th {\n",
       "        text-align: right;\n",
       "    }\n",
       "</style>\n",
       "<table border=\"1\" class=\"dataframe\">\n",
       "  <thead>\n",
       "    <tr style=\"text-align: right;\">\n",
       "      <th></th>\n",
       "      <th>phone_num</th>\n",
       "      <th>rst_name</th>\n",
       "      <th>before</th>\n",
       "      <th>after1</th>\n",
       "      <th>after2</th>\n",
       "      <th>diff1</th>\n",
       "      <th>diff2</th>\n",
       "      <th>michelin_dummy</th>\n",
       "      <th>if_new</th>\n",
       "    </tr>\n",
       "  </thead>\n",
       "  <tbody>\n",
       "    <tr>\n",
       "      <th>0</th>\n",
       "      <td>050-5890-4736</td>\n",
       "      <td>ビストロjeujeu 銀座コリドー店</td>\n",
       "      <td>3.48</td>\n",
       "      <td>3.48</td>\n",
       "      <td>3.48</td>\n",
       "      <td>0.0</td>\n",
       "      <td>0.00</td>\n",
       "      <td>0.0</td>\n",
       "      <td>0.0</td>\n",
       "    </tr>\n",
       "    <tr>\n",
       "      <th>1</th>\n",
       "      <td>050-5869-3647</td>\n",
       "      <td>カルネヴィーノ 銀座</td>\n",
       "      <td>3.70</td>\n",
       "      <td>3.70</td>\n",
       "      <td>3.70</td>\n",
       "      <td>0.0</td>\n",
       "      <td>0.00</td>\n",
       "      <td>0.0</td>\n",
       "      <td>0.0</td>\n",
       "    </tr>\n",
       "    <tr>\n",
       "      <th>2</th>\n",
       "      <td>050-5571-3530</td>\n",
       "      <td>文明堂 カフェ 東銀座店</td>\n",
       "      <td>3.51</td>\n",
       "      <td>3.51</td>\n",
       "      <td>3.51</td>\n",
       "      <td>0.0</td>\n",
       "      <td>0.00</td>\n",
       "      <td>0.0</td>\n",
       "      <td>0.0</td>\n",
       "    </tr>\n",
       "    <tr>\n",
       "      <th>3</th>\n",
       "      <td>050-5596-7252</td>\n",
       "      <td>YEBISU BAR 銀座二丁目店</td>\n",
       "      <td>3.46</td>\n",
       "      <td>3.46</td>\n",
       "      <td>3.46</td>\n",
       "      <td>0.0</td>\n",
       "      <td>0.00</td>\n",
       "      <td>0.0</td>\n",
       "      <td>0.0</td>\n",
       "    </tr>\n",
       "    <tr>\n",
       "      <th>4</th>\n",
       "      <td>050-5594-9494</td>\n",
       "      <td>ワインと炭火串焼 銀座 荻</td>\n",
       "      <td>3.30</td>\n",
       "      <td>3.30</td>\n",
       "      <td>3.30</td>\n",
       "      <td>0.0</td>\n",
       "      <td>0.00</td>\n",
       "      <td>0.0</td>\n",
       "      <td>0.0</td>\n",
       "    </tr>\n",
       "    <tr>\n",
       "      <th>...</th>\n",
       "      <td>...</td>\n",
       "      <td>...</td>\n",
       "      <td>...</td>\n",
       "      <td>...</td>\n",
       "      <td>...</td>\n",
       "      <td>...</td>\n",
       "      <td>...</td>\n",
       "      <td>...</td>\n",
       "      <td>...</td>\n",
       "    </tr>\n",
       "    <tr>\n",
       "      <th>32255</th>\n",
       "      <td>042-575-3780</td>\n",
       "      <td>チムニー</td>\n",
       "      <td>3.03</td>\n",
       "      <td>3.03</td>\n",
       "      <td>3.03</td>\n",
       "      <td>0.0</td>\n",
       "      <td>0.00</td>\n",
       "      <td>0.0</td>\n",
       "      <td>0.0</td>\n",
       "    </tr>\n",
       "    <tr>\n",
       "      <th>32256</th>\n",
       "      <td>0425-73-9161</td>\n",
       "      <td>牛すじトマト煮込み専門店もうまてん</td>\n",
       "      <td>3.10</td>\n",
       "      <td>3.10</td>\n",
       "      <td>3.10</td>\n",
       "      <td>0.0</td>\n",
       "      <td>0.00</td>\n",
       "      <td>0.0</td>\n",
       "      <td>0.0</td>\n",
       "    </tr>\n",
       "    <tr>\n",
       "      <th>32257</th>\n",
       "      <td>042-577-8141</td>\n",
       "      <td>手打ち蕎麦 かな井</td>\n",
       "      <td>3.07</td>\n",
       "      <td>3.07</td>\n",
       "      <td>3.09</td>\n",
       "      <td>0.0</td>\n",
       "      <td>0.02</td>\n",
       "      <td>0.0</td>\n",
       "      <td>0.0</td>\n",
       "    </tr>\n",
       "    <tr>\n",
       "      <th>32258</th>\n",
       "      <td>042-580-4056</td>\n",
       "      <td>ファミリーマート 矢川駅前店</td>\n",
       "      <td>3.05</td>\n",
       "      <td>3.05</td>\n",
       "      <td>3.03</td>\n",
       "      <td>0.0</td>\n",
       "      <td>-0.02</td>\n",
       "      <td>0.0</td>\n",
       "      <td>0.0</td>\n",
       "    </tr>\n",
       "    <tr>\n",
       "      <th>32259</th>\n",
       "      <td>042-572-7950</td>\n",
       "      <td>オレンジハウスすえひろ亭</td>\n",
       "      <td>3.05</td>\n",
       "      <td>3.05</td>\n",
       "      <td>3.05</td>\n",
       "      <td>0.0</td>\n",
       "      <td>0.00</td>\n",
       "      <td>0.0</td>\n",
       "      <td>0.0</td>\n",
       "    </tr>\n",
       "  </tbody>\n",
       "</table>\n",
       "<p>32260 rows × 9 columns</p>\n",
       "</div>"
      ],
      "text/plain": [
       "           phone_num            rst_name  before  after1  after2  diff1  \\\n",
       "0      050-5890-4736  ビストロjeujeu 銀座コリドー店    3.48    3.48    3.48    0.0   \n",
       "1      050-5869-3647          カルネヴィーノ 銀座    3.70    3.70    3.70    0.0   \n",
       "2      050-5571-3530        文明堂 カフェ 東銀座店    3.51    3.51    3.51    0.0   \n",
       "3      050-5596-7252   YEBISU BAR 銀座二丁目店    3.46    3.46    3.46    0.0   \n",
       "4      050-5594-9494       ワインと炭火串焼 銀座 荻    3.30    3.30    3.30    0.0   \n",
       "...              ...                 ...     ...     ...     ...    ...   \n",
       "32255   042-575-3780                チムニー    3.03    3.03    3.03    0.0   \n",
       "32256   0425-73-9161   牛すじトマト煮込み専門店もうまてん    3.10    3.10    3.10    0.0   \n",
       "32257   042-577-8141           手打ち蕎麦 かな井    3.07    3.07    3.09    0.0   \n",
       "32258   042-580-4056      ファミリーマート 矢川駅前店    3.05    3.05    3.03    0.0   \n",
       "32259   042-572-7950        オレンジハウスすえひろ亭    3.05    3.05    3.05    0.0   \n",
       "\n",
       "       diff2  michelin_dummy  if_new  \n",
       "0       0.00             0.0     0.0  \n",
       "1       0.00             0.0     0.0  \n",
       "2       0.00             0.0     0.0  \n",
       "3       0.00             0.0     0.0  \n",
       "4       0.00             0.0     0.0  \n",
       "...      ...             ...     ...  \n",
       "32255   0.00             0.0     0.0  \n",
       "32256   0.00             0.0     0.0  \n",
       "32257   0.02             0.0     0.0  \n",
       "32258  -0.02             0.0     0.0  \n",
       "32259   0.00             0.0     0.0  \n",
       "\n",
       "[32260 rows x 9 columns]"
      ]
     },
     "execution_count": 3,
     "metadata": {},
     "output_type": "execute_result"
    }
   ],
   "source": [
    "df"
   ]
  },
  {
   "cell_type": "markdown",
   "id": "037d6dfc-2802-4007-bb2a-8589327b0741",
   "metadata": {},
   "source": [
    "# diff1"
   ]
  },
  {
   "cell_type": "markdown",
   "id": "e0022b6c-6642-4033-b6c5-546554ca16ab",
   "metadata": {},
   "source": [
    "# Raw data"
   ]
  },
  {
   "cell_type": "code",
   "execution_count": 21,
   "id": "09ca01bb-ff56-45fb-a781-74d4d74a450f",
   "metadata": {},
   "outputs": [],
   "source": [
    "n = len(df)\n",
    "Y = df[\"diff1\"]\n",
    "X = df[[\"michelin_dummy\", \"if_new\"]]"
   ]
  },
  {
   "cell_type": "code",
   "execution_count": 22,
   "id": "0eb3a94d-7e5a-418e-8be6-cfb2cee91f3e",
   "metadata": {},
   "outputs": [
    {
     "name": "stdout",
     "output_type": "stream",
     "text": [
      "Count: 32260\n",
      "\n",
      "Regression starts... \n",
      "\n",
      "Explained variable: diff1\n",
      "\n",
      "Adjusted R-squared: 0.0012\n",
      "\n",
      "Two-tailed t-test results:\n",
      "\n",
      "             Name      Coef   Std Err   t-value   p-value\n",
      "0      _constant_  0.000470  0.000090  5.211348  0.000000\n",
      "1  michelin_dummy -0.007088  0.005754 -1.231774  0.216366\n",
      "2          if_new  0.008553  0.006043  1.415374  0.155524 \n",
      "\n",
      "\n",
      "Correlation between independent variables:\n",
      "\n",
      "                michelin_dummy    if_new\n",
      "michelin_dummy        1.000000  0.318507\n",
      "if_new                0.318507  1.000000\n"
     ]
    }
   ],
   "source": [
    "print(f\"Count: {n}\\n\")\n",
    "m = Model(Y, X)\n",
    "m.regression()"
   ]
  },
  {
   "cell_type": "markdown",
   "id": "4f54cb79-7bf7-4144-9542-119ad8ad6cd0",
   "metadata": {},
   "source": [
    "# 0.1%"
   ]
  },
  {
   "cell_type": "code",
   "execution_count": 6,
   "id": "d507084c-03ea-4c1f-b79e-6c2d60c1d897",
   "metadata": {},
   "outputs": [],
   "source": [
    "trim_ratio = 0.001\n",
    "bottom = round(len(df) * trim_ratio)\n",
    "top = len(df) - bottom\n",
    "\n",
    "df_trimed = df.sort_values(by='diff1').iloc[bottom:top,:].sort_index()\n",
    "n = len(df_trimed)\n",
    "\n",
    "Y = df_trimed[\"diff1\"]\n",
    "X = df_trimed[[\"michelin_dummy\", \"if_new\"]]"
   ]
  },
  {
   "cell_type": "code",
   "execution_count": 7,
   "id": "4c4c975e-d8b0-41a4-a270-d04edd66d1d3",
   "metadata": {},
   "outputs": [
    {
     "name": "stdout",
     "output_type": "stream",
     "text": [
      "Count: 32196\n",
      "\n",
      "Regression starts... \n",
      "\n",
      "Explained variable: diff1\n",
      "\n",
      "Adjusted R-squared: -0.0\n",
      "\n",
      "Two-tailed t-test results:\n",
      "\n",
      "             Name      Coef   Std Err    t-value   p-value\n",
      "0      _constant_  0.000472  0.000047  10.004451  0.000000\n",
      "1  michelin_dummy -0.000434  0.000681  -0.637830  0.520789\n",
      "2          if_new  0.001898  0.001970   0.963704  0.332947 \n",
      "\n",
      "\n",
      "Correlation between independent variables:\n",
      "\n",
      "                michelin_dummy   if_new\n",
      "michelin_dummy         1.00000  0.32119\n",
      "if_new                 0.32119  1.00000\n"
     ]
    }
   ],
   "source": [
    "print(f\"Count: {n}\\n\")\n",
    "m = Model(Y, X)\n",
    "m.regression()"
   ]
  },
  {
   "cell_type": "markdown",
   "id": "f23df4ed-58b3-4199-ab99-8506e0b35636",
   "metadata": {},
   "source": [
    "# 0.5%"
   ]
  },
  {
   "cell_type": "code",
   "execution_count": 8,
   "id": "8290cf2e-f29d-42dc-b435-4eed08674aa3",
   "metadata": {},
   "outputs": [],
   "source": [
    "trim_ratio = 0.005\n",
    "bottom = round(len(df) * trim_ratio)\n",
    "top = len(df) - bottom\n",
    "\n",
    "df_trimed = df.sort_values(by='diff1').iloc[bottom:top,:].sort_index()\n",
    "n = len(df_trimed)\n",
    "\n",
    "Y = df_trimed[\"diff1\"]\n",
    "X = df_trimed[[\"michelin_dummy\", \"if_new\"]]"
   ]
  },
  {
   "cell_type": "code",
   "execution_count": 9,
   "id": "53dac94b-a9fe-4e6d-990c-52d8df65a98e",
   "metadata": {},
   "outputs": [
    {
     "name": "stdout",
     "output_type": "stream",
     "text": [
      "Count: 31938\n",
      "\n",
      "Regression starts... \n",
      "\n",
      "Explained variable: diff1\n",
      "\n",
      "Adjusted R-squared: 0.0\n",
      "\n",
      "Two-tailed t-test results:\n",
      "\n",
      "             Name      Coef   Std Err    t-value   p-value\n",
      "0      _constant_  0.000361  0.000031  11.701023  0.000000\n",
      "1  michelin_dummy  0.000214  0.000428   0.500358  0.614190\n",
      "2          if_new  0.001361  0.001897   0.717218  0.470205 \n",
      "\n",
      "\n",
      "Correlation between independent variables:\n",
      "\n",
      "                michelin_dummy    if_new\n",
      "michelin_dummy        1.000000  0.324493\n",
      "if_new                0.324493  1.000000\n"
     ]
    }
   ],
   "source": [
    "print(f\"Count: {n}\\n\")\n",
    "m = Model(Y, X)\n",
    "m.regression()"
   ]
  },
  {
   "cell_type": "markdown",
   "id": "b5f7d0d6-4063-419a-b142-d1af3590aca2",
   "metadata": {},
   "source": [
    "# 0.10%"
   ]
  },
  {
   "cell_type": "code",
   "execution_count": 10,
   "id": "8e37c4af-e296-4293-8576-6e9c51c36a92",
   "metadata": {},
   "outputs": [],
   "source": [
    "trim_ratio = 0.01\n",
    "bottom = round(len(df) * trim_ratio)\n",
    "top = len(df) - bottom\n",
    "\n",
    "df_trimed = df.sort_values(by='diff1').iloc[bottom:top,:].sort_index()\n",
    "n = len(df_trimed)\n",
    "\n",
    "Y = df_trimed[\"diff1\"]\n",
    "X = df_trimed[[\"michelin_dummy\", \"if_new\"]]"
   ]
  },
  {
   "cell_type": "code",
   "execution_count": 11,
   "id": "3d025cf0-ee36-4c36-a913-32aa8e10ac55",
   "metadata": {},
   "outputs": [
    {
     "name": "stdout",
     "output_type": "stream",
     "text": [
      "Count: 31614\n",
      "\n",
      "Regression starts... \n",
      "\n",
      "Explained variable: diff1\n",
      "\n",
      "Adjusted R-squared: -0.0\n",
      "\n",
      "Two-tailed t-test results:\n",
      "\n",
      "             Name      Coef   Std Err   t-value   p-value\n",
      "0      _constant_  0.000212  0.000025  8.537766  0.000000\n",
      "1  michelin_dummy  0.000331  0.000395  0.837951  0.399693\n",
      "2          if_new  0.000147  0.001044  0.140816  0.885478 \n",
      "\n",
      "\n",
      "Correlation between independent variables:\n",
      "\n",
      "                michelin_dummy    if_new\n",
      "michelin_dummy        1.000000  0.316575\n",
      "if_new                0.316575  1.000000\n"
     ]
    }
   ],
   "source": [
    "print(f\"Count: {n}\\n\")\n",
    "m = Model(Y, X)\n",
    "m.regression()"
   ]
  },
  {
   "cell_type": "code",
   "execution_count": null,
   "id": "46c13258-865e-45a0-9539-150812c2b161",
   "metadata": {},
   "outputs": [],
   "source": []
  },
  {
   "cell_type": "code",
   "execution_count": null,
   "id": "bff4ded3-ea32-4ad7-9750-0866cbd0957a",
   "metadata": {},
   "outputs": [],
   "source": []
  },
  {
   "cell_type": "markdown",
   "id": "0705d42e-3a4f-49fc-8e86-a72156234ad4",
   "metadata": {},
   "source": [
    "# diff2"
   ]
  },
  {
   "cell_type": "markdown",
   "id": "a37d6f9c-a28d-4478-a4e0-3689ceb8f46b",
   "metadata": {},
   "source": [
    "# Raw data"
   ]
  },
  {
   "cell_type": "code",
   "execution_count": 19,
   "id": "698bee3f-c73d-44ef-a4ec-f6f0ee0f01b6",
   "metadata": {},
   "outputs": [],
   "source": [
    "n = len(df)\n",
    "Y = df[\"diff2\"]\n",
    "X = df[[\"michelin_dummy\", \"if_new\"]]"
   ]
  },
  {
   "cell_type": "code",
   "execution_count": 20,
   "id": "64dec122-faab-41da-bfeb-a41b584f89a0",
   "metadata": {},
   "outputs": [
    {
     "name": "stdout",
     "output_type": "stream",
     "text": [
      "Count: 32260\n",
      "\n",
      "Regression starts... \n",
      "\n",
      "Explained variable: diff2\n",
      "\n",
      "Adjusted R-squared: 0.0056\n",
      "\n",
      "Two-tailed t-test results:\n",
      "\n",
      "             Name      Coef   Std Err    t-value   p-value\n",
      "0      _constant_  0.003723  0.000167  22.278070  0.000000\n",
      "1  michelin_dummy -0.026002  0.007299  -3.562215  0.000361\n",
      "2          if_new  0.034860  0.008738   3.989534  0.000065 \n",
      "\n",
      "\n",
      "Correlation between independent variables:\n",
      "\n",
      "                michelin_dummy    if_new\n",
      "michelin_dummy        1.000000  0.318507\n",
      "if_new                0.318507  1.000000\n"
     ]
    }
   ],
   "source": [
    "print(f\"Count: {n}\\n\")\n",
    "m = Model(Y, X)\n",
    "m.regression()"
   ]
  },
  {
   "cell_type": "markdown",
   "id": "d086f574-33bf-406a-984e-9c549ebed41f",
   "metadata": {},
   "source": [
    "# 0.1%"
   ]
  },
  {
   "cell_type": "code",
   "execution_count": 14,
   "id": "de85eeef-ac36-445b-8aec-5bc72db35507",
   "metadata": {},
   "outputs": [],
   "source": [
    "trim_ratio = 0.001\n",
    "bottom = round(len(df) * trim_ratio)\n",
    "top = len(df) - bottom\n",
    "\n",
    "df_trimed = df.sort_values(by='diff2').iloc[bottom:top,:].sort_index()\n",
    "n = len(df_trimed)\n",
    "\n",
    "Y = df_trimed[\"diff2\"]\n",
    "X = df_trimed[[\"michelin_dummy\", \"if_new\"]]"
   ]
  },
  {
   "cell_type": "code",
   "execution_count": 60,
   "id": "94a5c390-61de-4755-a2db-f7777c13f617",
   "metadata": {},
   "outputs": [
    {
     "name": "stdout",
     "output_type": "stream",
     "text": [
      "Count: 32196\n",
      "\n",
      "Regression starts... \n",
      "\n",
      "Explained variable: diff2\n",
      "\n",
      "Adjusted R-squared: 0.0023\n",
      "\n",
      "Two-tailed t-test results:\n",
      "\n",
      "             Name      Coef   Std Err    t-value   p-value\n",
      "0      _constant_  0.003565  0.000131  27.311939  0.000000\n",
      "1  michelin_dummy -0.012315  0.003174  -3.879527  0.000103\n",
      "2          if_new  0.021331  0.005758   3.704413  0.000208 \n",
      "\n",
      "\n",
      "Correlation between independent variables:\n",
      "\n",
      "                michelin_dummy    if_new\n",
      "michelin_dummy        1.000000  0.322835\n",
      "if_new                0.322835  1.000000\n"
     ]
    }
   ],
   "source": [
    "print(f\"Count: {n}\\n\")\n",
    "m = Model(Y, X)\n",
    "m.regression()"
   ]
  },
  {
   "cell_type": "markdown",
   "id": "0fcc30c8-0ed7-4ae2-8aee-eb11c25c7dd3",
   "metadata": {},
   "source": [
    "# 0.5%"
   ]
  },
  {
   "cell_type": "code",
   "execution_count": 15,
   "id": "64c0dd4d-94f9-4858-bc9b-34fe8bba0446",
   "metadata": {},
   "outputs": [],
   "source": [
    "trim_ratio = 0.005\n",
    "bottom = round(len(df) * trim_ratio)\n",
    "top = len(df) - bottom\n",
    "\n",
    "df_trimed = df.sort_values(by='diff2').iloc[bottom:top,:].sort_index()\n",
    "n = len(df_trimed)\n",
    "\n",
    "Y = df_trimed[\"diff2\"]\n",
    "X = df_trimed[[\"michelin_dummy\", \"if_new\"]]"
   ]
  },
  {
   "cell_type": "code",
   "execution_count": 16,
   "id": "d8751e66-5549-4890-b083-9512793fe39f",
   "metadata": {},
   "outputs": [
    {
     "name": "stdout",
     "output_type": "stream",
     "text": [
      "Count: 31938\n",
      "\n",
      "Regression starts... \n",
      "\n",
      "Explained variable: diff2\n",
      "\n",
      "Adjusted R-squared: 0.0002\n",
      "\n",
      "Two-tailed t-test results:\n",
      "\n",
      "             Name      Coef   Std Err    t-value   p-value\n",
      "0      _constant_  0.003295  0.000105  31.249983  0.000000\n",
      "1  michelin_dummy -0.001105  0.002050  -0.539308  0.586366\n",
      "2          if_new  0.010391  0.005224   1.989156  0.046327 \n",
      "\n",
      "\n",
      "Correlation between independent variables:\n",
      "\n",
      "                michelin_dummy    if_new\n",
      "michelin_dummy        1.000000  0.335696\n",
      "if_new                0.335696  1.000000\n"
     ]
    }
   ],
   "source": [
    "print(f\"Count: {n}\\n\")\n",
    "m = Model(Y, X)\n",
    "m.regression()"
   ]
  },
  {
   "cell_type": "markdown",
   "id": "5a09cedb-c202-476d-a0bf-361178566ffb",
   "metadata": {},
   "source": [
    "# 0.10%"
   ]
  },
  {
   "cell_type": "code",
   "execution_count": 17,
   "id": "14c347c5-f97f-435d-8345-c3280884b81e",
   "metadata": {},
   "outputs": [],
   "source": [
    "trim_ratio = 0.01\n",
    "bottom = round(len(df) * trim_ratio)\n",
    "top = len(df) - bottom\n",
    "\n",
    "df_trimed = df.sort_values(by='diff2').iloc[bottom:top,:].sort_index()\n",
    "n = len(df_trimed)\n",
    "\n",
    "Y = df_trimed[\"diff2\"]\n",
    "X = df_trimed[[\"michelin_dummy\", \"if_new\"]]"
   ]
  },
  {
   "cell_type": "code",
   "execution_count": 18,
   "id": "78953c18-b19d-49a8-8731-1f2b382a95c6",
   "metadata": {},
   "outputs": [
    {
     "name": "stdout",
     "output_type": "stream",
     "text": [
      "Count: 31614\n",
      "\n",
      "Regression starts... \n",
      "\n",
      "Explained variable: diff2\n",
      "\n",
      "Adjusted R-squared: 0.0001\n",
      "\n",
      "Two-tailed t-test results:\n",
      "\n",
      "             Name      Coef   Std Err    t-value   p-value\n",
      "0      _constant_  0.003302  0.000091  36.344654  0.000000\n",
      "1  michelin_dummy  0.001566  0.001437   1.090059  0.273859\n",
      "2          if_new  0.004465  0.003978   1.122532  0.260070 \n",
      "\n",
      "\n",
      "Correlation between independent variables:\n",
      "\n",
      "                michelin_dummy    if_new\n",
      "michelin_dummy        1.000000  0.339764\n",
      "if_new                0.339764  1.000000\n"
     ]
    }
   ],
   "source": [
    "print(f\"Count: {n}\\n\")\n",
    "m = Model(Y, X)\n",
    "m.regression()"
   ]
  },
  {
   "cell_type": "code",
   "execution_count": null,
   "id": "d781badb-69e2-4f9b-8ff6-4ce41826f01d",
   "metadata": {},
   "outputs": [],
   "source": []
  }
 ],
 "metadata": {
  "kernelspec": {
   "display_name": "Python 3",
   "language": "python",
   "name": "python3"
  },
  "language_info": {
   "codemirror_mode": {
    "name": "ipython",
    "version": 3
   },
   "file_extension": ".py",
   "mimetype": "text/x-python",
   "name": "python",
   "nbconvert_exporter": "python",
   "pygments_lexer": "ipython3",
   "version": "3.8.5"
  }
 },
 "nbformat": 4,
 "nbformat_minor": 5
}
